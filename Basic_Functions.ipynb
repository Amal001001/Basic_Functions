{
 "cells": [
  {
   "cell_type": "markdown",
   "id": "df864df0",
   "metadata": {},
   "source": [
    "# Assignment: Basic Functions"
   ]
  },
  {
   "cell_type": "markdown",
   "id": "dbe175e2",
   "metadata": {},
   "source": [
    "### 1. Countdown - Create a function that accepts a number as an input. Return a new list that counts down by one, from the number (as the 0th element) down to 0 (as the last element)."
   ]
  },
  {
   "cell_type": "code",
   "execution_count": 2,
   "id": "52241263",
   "metadata": {},
   "outputs": [
    {
     "data": {
      "text/plain": [
       "[5, 4, 3, 2, 1, 0]"
      ]
     },
     "execution_count": 2,
     "metadata": {},
     "output_type": "execute_result"
    }
   ],
   "source": [
    "def countdown(num):\n",
    "    countdown_list = []\n",
    "    \n",
    "    for i in range(num , -1 , -1):\n",
    "        countdown_list.append(i)\n",
    "        \n",
    "    return countdown_list\n",
    "\n",
    "countdown(5)"
   ]
  },
  {
   "cell_type": "markdown",
   "id": "804f069e",
   "metadata": {},
   "source": [
    "### 2. Print and Return - Create a function that will receive a list with two numbers. Print the first value and return the second."
   ]
  },
  {
   "cell_type": "code",
   "execution_count": 4,
   "id": "8173ba90",
   "metadata": {},
   "outputs": [
    {
     "name": "stdout",
     "output_type": "stream",
     "text": [
      "1\n"
     ]
    },
    {
     "data": {
      "text/plain": [
       "2"
      ]
     },
     "execution_count": 4,
     "metadata": {},
     "output_type": "execute_result"
    }
   ],
   "source": [
    "def print_and_return(list_input):\n",
    "    \n",
    "    print(list_input[0])\n",
    "    return list_input[1]\n",
    "\n",
    "print_and_return([1,2])"
   ]
  },
  {
   "cell_type": "markdown",
   "id": "08a94cd1",
   "metadata": {},
   "source": [
    "### 3. First Plus Length - Create a function that accepts a list and returns the sum of the first value in the list plus the list's length."
   ]
  },
  {
   "cell_type": "code",
   "execution_count": 6,
   "id": "08c8240f",
   "metadata": {},
   "outputs": [
    {
     "data": {
      "text/plain": [
       "6"
      ]
     },
     "execution_count": 6,
     "metadata": {},
     "output_type": "execute_result"
    }
   ],
   "source": [
    "def first_plus_length(list_input):\n",
    "    \n",
    "    return list_input[0] + len(list_input)\n",
    "\n",
    "\n",
    "first_plus_length([1,2,3,4,5])"
   ]
  },
  {
   "cell_type": "markdown",
   "id": "28da64d7",
   "metadata": {},
   "source": [
    "### 4. This Length, That Value - Write a function that accepts two integers as parameters: size and value. The function should create and return a list whose length is equal to the given size, and whose values are all the given value."
   ]
  },
  {
   "cell_type": "code",
   "execution_count": 10,
   "id": "dc809dd7",
   "metadata": {},
   "outputs": [
    {
     "data": {
      "text/plain": [
       "[7, 7, 7, 7]"
      ]
     },
     "execution_count": 10,
     "metadata": {},
     "output_type": "execute_result"
    }
   ],
   "source": [
    "def length_and_value(sz ,val):\n",
    "    \n",
    "    new_list = []\n",
    "    for i in range(sz):\n",
    "        new_list.append(val)\n",
    "        \n",
    "    return new_list\n",
    "\n",
    "length_and_value(4,7)"
   ]
  },
  {
   "cell_type": "code",
   "execution_count": 11,
   "id": "a21beddb",
   "metadata": {},
   "outputs": [
    {
     "data": {
      "text/plain": [
       "[2, 2, 2, 2, 2, 2]"
      ]
     },
     "execution_count": 11,
     "metadata": {},
     "output_type": "execute_result"
    }
   ],
   "source": [
    "length_and_value(6,2)"
   ]
  },
  {
   "cell_type": "markdown",
   "id": "57d2261a",
   "metadata": {},
   "source": [
    "### 5. Values Greater than Second (Optional) - Write a function that accepts a list and creates a new list containing only the values from the original list that are greater than its 2nd value.\n",
    "Print how many values this is and then return the new list. If the list has less than 2 elements, have the function return False."
   ]
  },
  {
   "cell_type": "code",
   "execution_count": 16,
   "id": "3c1ae23e",
   "metadata": {},
   "outputs": [
    {
     "name": "stdout",
     "output_type": "stream",
     "text": [
      "3\n"
     ]
    },
    {
     "data": {
      "text/plain": [
       "[5, 3, 4]"
      ]
     },
     "execution_count": 16,
     "metadata": {},
     "output_type": "execute_result"
    }
   ],
   "source": [
    "def values_greater_than_second(list_input):\n",
    "    newlist = []\n",
    "    \n",
    "    if (len(list_input) < 2):\n",
    "        return False\n",
    "    \n",
    "    else:\n",
    "        for i in list_input:\n",
    "\n",
    "            if i > list_input[1]:\n",
    "                newlist.append(i)\n",
    "\n",
    "        print(len(newlist))\n",
    "        return newlist\n",
    "    \n",
    "    \n",
    "values_greater_than_second([5,2,3,2,1,4])"
   ]
  },
  {
   "cell_type": "code",
   "execution_count": 17,
   "id": "70ceaf16",
   "metadata": {},
   "outputs": [
    {
     "data": {
      "text/plain": [
       "False"
      ]
     },
     "execution_count": 17,
     "metadata": {},
     "output_type": "execute_result"
    }
   ],
   "source": [
    "values_greater_than_second([3])"
   ]
  }
 ],
 "metadata": {
  "kernelspec": {
   "display_name": "Python 3 (ipykernel)",
   "language": "python",
   "name": "python3"
  },
  "language_info": {
   "codemirror_mode": {
    "name": "ipython",
    "version": 3
   },
   "file_extension": ".py",
   "mimetype": "text/x-python",
   "name": "python",
   "nbconvert_exporter": "python",
   "pygments_lexer": "ipython3",
   "version": "3.9.12"
  }
 },
 "nbformat": 4,
 "nbformat_minor": 5
}
